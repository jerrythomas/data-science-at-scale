{
 "cells": [
  {
   "cell_type": "markdown",
   "metadata": {},
   "source": [
    "# People most likely to go missing in Mission district between 10am & 11am on Fridays"
   ]
  },
  {
   "cell_type": "markdown",
   "metadata": {},
   "source": [
    "## Summary of findings\n",
    "\n",
    "* Mission district has highest rate of missing persons\n",
    "* People most likely to go missing between 10am & 11am\n",
    "* People most likely to go missing on fridays"
   ]
  },
  {
   "cell_type": "code",
   "execution_count": 1,
   "metadata": {
    "collapsed": false
   },
   "outputs": [
    {
     "data": {
      "text/html": [
       "\n",
       "           <script>\n",
       "               \n",
       "                function vct_load_lib(url, callback){\n",
       "                      if(typeof d3 !== 'undefined' &&\n",
       "                         url === 'http://d3js.org/d3.v3.min.js'){\n",
       "                        callback()\n",
       "                      }\n",
       "                      var s = document.createElement('script');\n",
       "                      s.src = url;\n",
       "                      s.async = true;\n",
       "                      s.onreadystatechange = s.onload = callback;\n",
       "                      s.onerror = function(){\n",
       "                        console.warn(\"failed to load library \" + url);\n",
       "                        };\n",
       "                      document.getElementsByTagName(\"head\")[0].appendChild(s);\n",
       "                };\n",
       "                var vincent_event = new CustomEvent(\n",
       "                  \"vincent_libs_loaded\",\n",
       "                  {bubbles: true, cancelable: true}\n",
       "                );\n",
       "                \n",
       "               function load_all_libs(){\n",
       "                  console.log('Loading Vincent libs...')\n",
       "                  vct_load_lib('http://d3js.org/d3.v3.min.js', function(){\n",
       "                  vct_load_lib('http://d3js.org/d3.geo.projection.v0.min.js', function(){\n",
       "                  vct_load_lib('http://wrobstory.github.io/d3-cloud/d3.layout.cloud.js', function(){\n",
       "                  vct_load_lib('http://wrobstory.github.io/vega/vega.v1.3.3.js', function(){\n",
       "                  window.dispatchEvent(vincent_event);\n",
       "                  });\n",
       "                  });\n",
       "                  });\n",
       "                  });\n",
       "               };\n",
       "               if(typeof define === \"function\" && define.amd){\n",
       "                    if (window['d3'] === undefined ||\n",
       "                        window['topojson'] === undefined){\n",
       "                        require.config(\n",
       "                            {paths: {\n",
       "                              d3: 'http://d3js.org/d3.v3.min',\n",
       "                              topojson: 'http://d3js.org/topojson.v1.min'\n",
       "                              }\n",
       "                            }\n",
       "                          );\n",
       "                        require([\"d3\"], function(d3){\n",
       "                            console.log('Loading Vincent from require.js...')\n",
       "                            window.d3 = d3;\n",
       "                            require([\"topojson\"], function(topojson){\n",
       "                                window.topojson = topojson;\n",
       "                                load_all_libs();\n",
       "                            });\n",
       "                        });\n",
       "                    } else {\n",
       "                        load_all_libs();\n",
       "                    };\n",
       "               }else{\n",
       "                    console.log('Require.js not found, loading manually...')\n",
       "                    load_all_libs();\n",
       "               };\n",
       "\n",
       "           </script>"
      ],
      "text/plain": [
       "<IPython.core.display.HTML object>"
      ]
     },
     "metadata": {},
     "output_type": "display_data"
    }
   ],
   "source": [
    "import vincent\n",
    "import pandas as pd\n",
    "from vincent import AxisProperties, PropertySet, ValueRef\n",
    "from vincent import Map\n",
    "\n",
    "vincent.core.initialize_notebook()"
   ]
  },
  {
   "cell_type": "markdown",
   "metadata": {},
   "source": [
    "### Reading the file"
   ]
  },
  {
   "cell_type": "code",
   "execution_count": 2,
   "metadata": {
    "collapsed": true
   },
   "outputs": [],
   "source": [
    "incidents = pd.read_csv('sanfrancisco_incidents_summer_2014.csv')"
   ]
  },
  {
   "cell_type": "markdown",
   "metadata": {},
   "source": [
    "Changing the column labels of the data set"
   ]
  },
  {
   "cell_type": "code",
   "execution_count": 3,
   "metadata": {
    "collapsed": true
   },
   "outputs": [],
   "source": [
    "incidents.columns = ['Id'\n",
    "                    ,'Category'\n",
    "                    ,'Description'\n",
    "                    ,'DayOfWeek'\n",
    "                    ,'Date'\n",
    "                    ,'Time'\n",
    "                    ,'District'\n",
    "                    ,'Resolution'\n",
    "                    ,'Address'\n",
    "                    ,'Longitude'\n",
    "                    ,'Latitude'\n",
    "                    ,'Location'\n",
    "                    ,'PdId']"
   ]
  },
  {
   "cell_type": "markdown",
   "metadata": {},
   "source": [
    "The date and time of incident are in two separate columns. Combining them into a DateTime column"
   ]
  },
  {
   "cell_type": "code",
   "execution_count": 4,
   "metadata": {
    "collapsed": true
   },
   "outputs": [],
   "source": [
    "# the date and time of incident are in two separate columns\n",
    "# combining them into a date_time column\n",
    "incidents['DateTime'] = pd.to_datetime(incidents['Date'] + ' ' + incidents['Time'])\n",
    "date_idx = pd.DatetimeIndex(incidents['DateTime'])\n",
    "incidents['Date'] = date_idx.date.astype('datetime64')\n",
    "incidents['Hour'] = date_idx.hour\n",
    "incidents['Year'] = date_idx.year\n",
    "incidents['Month'] = date_idx.month\n",
    "incidents['Weekday'] = date_idx.weekday"
   ]
  },
  {
   "cell_type": "markdown",
   "metadata": {},
   "source": [
    "### Histogram plot of the incidents by category\n",
    "\n",
    "The plot shows that Larceny/Theft is the most reported crime across all districts, second being Assault and 9th being Missing Person."
   ]
  },
  {
   "cell_type": "code",
   "execution_count": 5,
   "metadata": {
    "collapsed": false
   },
   "outputs": [
    {
     "data": {
      "text/html": [
       "<div id=\"vis7b403bb8925c44e4b45ba330f3cc0769\"></div>\n",
       "<script>\n",
       "   ( function() {\n",
       "     var _do_plot = function() {\n",
       "       if (typeof vg === 'undefined') {\n",
       "         window.addEventListener('vincent_libs_loaded', _do_plot)\n",
       "         return;\n",
       "       }\n",
       "       vg.parse.spec({\"axes\": [{\"properties\": {\"labels\": {\"align\": {\"value\": \"right\"}, \"angle\": {\"value\": 270}}}, \"scale\": \"x\", \"title\": \"Category\", \"type\": \"x\"}, {\"scale\": \"y\", \"title\": \"Incident Count\", \"type\": \"y\"}], \"data\": [{\"name\": \"table\", \"values\": [{\"col\": \"count\", \"idx\": \"BRIBERY\", \"val\": 1}, {\"col\": \"count\", \"idx\": \"PORNOGRAPHY/OBSCENE MAT\", \"val\": 1}, {\"col\": \"count\", \"idx\": \"GAMBLING\", \"val\": 1}, {\"col\": \"count\", \"idx\": \"LOITERING\", \"val\": 3}, {\"col\": \"count\", \"idx\": \"BURGLARY\", \"val\": 6}, {\"col\": \"count\", \"idx\": \"EXTORTION\", \"val\": 7}, {\"col\": \"count\", \"idx\": \"STOLEN PROPERTY\", \"val\": 8}, {\"col\": \"count\", \"idx\": \"EMBEZZLEMENT\", \"val\": 10}, {\"col\": \"count\", \"idx\": \"FAMILY OFFENSES\", \"val\": 10}, {\"col\": \"count\", \"idx\": \"SUICIDE\", \"val\": 14}, {\"col\": \"count\", \"idx\": \"VANDALISM\", \"val\": 17}, {\"col\": \"count\", \"idx\": \"FORGERY/COUNTERFEITING\", \"val\": 18}, {\"col\": \"count\", \"idx\": \"DISORDERLY CONDUCT\", \"val\": 31}, {\"col\": \"count\", \"idx\": \"LIQUOR LAWS\", \"val\": 42}, {\"col\": \"count\", \"idx\": \"RUNAWAY\", \"val\": 61}, {\"col\": \"count\", \"idx\": \"ARSON\", \"val\": 63}, {\"col\": \"count\", \"idx\": \"DRIVING UNDER THE INFLUENCE\", \"val\": 100}, {\"col\": \"count\", \"idx\": \"PROSTITUTION\", \"val\": 112}, {\"col\": \"count\", \"idx\": \"KIDNAPPING\", \"val\": 117}, {\"col\": \"count\", \"idx\": \"DRUNKENNESS\", \"val\": 147}, {\"col\": \"count\", \"idx\": \"FRAUD\", \"val\": 242}, {\"col\": \"count\", \"idx\": \"TRESPASS\", \"val\": 281}, {\"col\": \"count\", \"idx\": \"ROBBERY\", \"val\": 308}, {\"col\": \"count\", \"idx\": \"WEAPON LAWS\", \"val\": 354}, {\"col\": \"count\", \"idx\": \"SECONDARY CODES\", \"val\": 442}, {\"col\": \"count\", \"idx\": \"MISSING PERSON\", \"val\": 1266}, {\"col\": \"count\", \"idx\": \"SUSPICIOUS OCC\", \"val\": 1300}, {\"col\": \"count\", \"idx\": \"DRUG/NARCOTIC\", \"val\": 1345}, {\"col\": \"count\", \"idx\": \"WARRANTS\", \"val\": 1782}, {\"col\": \"count\", \"idx\": \"VEHICLE THEFT\", \"val\": 1966}, {\"col\": \"count\", \"idx\": \"ASSAULT\", \"val\": 2882}, {\"col\": \"count\", \"idx\": \"NON-CRIMINAL\", \"val\": 3023}, {\"col\": \"count\", \"idx\": \"OTHER OFFENSES\", \"val\": 3567}, {\"col\": \"count\", \"idx\": \"LARCENY/THEFT\", \"val\": 9466}]}, {\"name\": \"stats\", \"source\": \"table\", \"transform\": [{\"keys\": [\"data.idx\"], \"type\": \"facet\"}, {\"type\": \"stats\", \"value\": \"data.val\"}]}], \"height\": 500, \"legends\": [{\"fill\": \"color\", \"offset\": 0, \"properties\": {}, \"title\": \"Category\"}], \"marks\": [{\"from\": {\"data\": \"table\", \"transform\": [{\"keys\": [\"data.col\"], \"type\": \"facet\"}, {\"height\": \"data.val\", \"point\": \"data.idx\", \"type\": \"stack\"}]}, \"marks\": [{\"properties\": {\"enter\": {\"fill\": {\"field\": \"data.col\", \"scale\": \"color\"}, \"width\": {\"band\": true, \"offset\": -1, \"scale\": \"x\"}, \"x\": {\"field\": \"data.idx\", \"scale\": \"x\"}, \"y\": {\"field\": \"y\", \"scale\": \"y\"}, \"y2\": {\"field\": \"y2\", \"scale\": \"y\"}}}, \"type\": \"rect\"}], \"type\": \"group\"}], \"padding\": \"auto\", \"scales\": [{\"domain\": {\"data\": \"table\", \"field\": \"data.idx\"}, \"name\": \"x\", \"range\": \"width\", \"type\": \"ordinal\", \"zero\": false}, {\"domain\": {\"data\": \"stats\", \"field\": \"sum\"}, \"name\": \"y\", \"nice\": true, \"range\": \"height\"}, {\"domain\": {\"data\": \"table\", \"field\": \"data.col\"}, \"name\": \"color\", \"range\": \"category20\", \"type\": \"ordinal\"}], \"width\": 960}, function(chart) {\n",
       "         chart({el: \"#vis7b403bb8925c44e4b45ba330f3cc0769\"}).update();\n",
       "       });\n",
       "     };\n",
       "     _do_plot();\n",
       "   })();\n",
       "</script>\n",
       "<style>.vega canvas {width: 100%;}</style>\n",
       "        "
      ],
      "text/plain": [
       "<IPython.core.display.HTML object>"
      ]
     },
     "metadata": {},
     "output_type": "display_data"
    }
   ],
   "source": [
    "count_by_category = pd.DataFrame({'count' : incidents.groupby( ['Category'] ).size()}).reset_index()\n",
    "count_by_category.sort_values(by='count',ascending= True,inplace=True)\n",
    "index = count_by_category['Category']\n",
    "\n",
    "graph = vincent.Bar(count_by_category,columns=['count'], key_on='Category')\n",
    "graph.legend(title='Category')\n",
    "graph.axis_titles(x='Category', y='Incident Count')\n",
    "ax = AxisProperties(\n",
    "    labels=PropertySet(\n",
    "        angle=ValueRef(value=270),\n",
    "        align=ValueRef(value='right')\n",
    "        )\n",
    "    )\n",
    "graph.axes[0].properties = ax\n",
    "graph.display()\n",
    "#ax = count_by_category.plot(kind=\"barh\",x='Category', y='count',sort_columns=True)"
   ]
  },
  {
   "cell_type": "code",
   "execution_count": 6,
   "metadata": {
    "collapsed": false
   },
   "outputs": [],
   "source": [
    "by_year = incidents.pivot_table('Id'\n",
    "                                , aggfunc='count'\n",
    "                                , index='Weekday'\n",
    "                                , columns='District')\n",
    "\n"
   ]
  },
  {
   "cell_type": "code",
   "execution_count": 7,
   "metadata": {
    "collapsed": false
   },
   "outputs": [
    {
     "data": {
      "text/html": [
       "<div id=\"vis8fd9cc23f8de4e8db21a0d101f625484\"></div>\n",
       "<script>\n",
       "   ( function() {\n",
       "     var _do_plot = function() {\n",
       "       if (typeof vg === 'undefined') {\n",
       "         window.addEventListener('vincent_libs_loaded', _do_plot)\n",
       "         return;\n",
       "       }\n",
       "       vg.parse.spec({\"axes\": [{\"scale\": \"x\", \"title\": \"Weekday\", \"type\": \"x\"}, {\"scale\": \"y\", \"title\": \"Incident Count\", \"type\": \"y\"}], \"data\": [{\"name\": \"table\", \"values\": [{\"col\": \"BAYVIEW\", \"idx\": 0, \"val\": 382}, {\"col\": \"CENTRAL\", \"idx\": 0, \"val\": 434}, {\"col\": \"INGLESIDE\", \"idx\": 0, \"val\": 359}, {\"col\": \"MISSION\", \"idx\": 0, \"val\": 468}, {\"col\": \"NORTHERN\", \"idx\": 0, \"val\": 444}, {\"col\": \"PARK\", \"idx\": 0, \"val\": 280}, {\"col\": \"RICHMOND\", \"idx\": 0, \"val\": 218}, {\"col\": \"SOUTHERN\", \"idx\": 0, \"val\": 799}, {\"col\": \"TARAVAL\", \"idx\": 0, \"val\": 291}, {\"col\": \"TENDERLOIN\", \"idx\": 0, \"val\": 330}, {\"col\": \"BAYVIEW\", \"idx\": 1, \"val\": 413}, {\"col\": \"CENTRAL\", \"idx\": 1, \"val\": 407}, {\"col\": \"INGLESIDE\", \"idx\": 1, \"val\": 314}, {\"col\": \"MISSION\", \"idx\": 1, \"val\": 495}, {\"col\": \"NORTHERN\", \"idx\": 1, \"val\": 461}, {\"col\": \"PARK\", \"idx\": 1, \"val\": 243}, {\"col\": \"RICHMOND\", \"idx\": 1, \"val\": 212}, {\"col\": \"SOUTHERN\", \"idx\": 1, \"val\": 739}, {\"col\": \"TARAVAL\", \"idx\": 1, \"val\": 284}, {\"col\": \"TENDERLOIN\", \"idx\": 1, \"val\": 362}, {\"col\": \"BAYVIEW\", \"idx\": 2, \"val\": 406}, {\"col\": \"CENTRAL\", \"idx\": 2, \"val\": 516}, {\"col\": \"INGLESIDE\", \"idx\": 2, \"val\": 350}, {\"col\": \"MISSION\", \"idx\": 2, \"val\": 517}, {\"col\": \"NORTHERN\", \"idx\": 2, \"val\": 485}, {\"col\": \"PARK\", \"idx\": 2, \"val\": 258}, {\"col\": \"RICHMOND\", \"idx\": 2, \"val\": 204}, {\"col\": \"SOUTHERN\", \"idx\": 2, \"val\": 739}, {\"col\": \"TARAVAL\", \"idx\": 2, \"val\": 279}, {\"col\": \"TENDERLOIN\", \"idx\": 2, \"val\": 348}, {\"col\": \"BAYVIEW\", \"idx\": 3, \"val\": 384}, {\"col\": \"CENTRAL\", \"idx\": 3, \"val\": 463}, {\"col\": \"INGLESIDE\", \"idx\": 3, \"val\": 369}, {\"col\": \"MISSION\", \"idx\": 3, \"val\": 493}, {\"col\": \"NORTHERN\", \"idx\": 3, \"val\": 455}, {\"col\": \"PARK\", \"idx\": 3, \"val\": 207}, {\"col\": \"RICHMOND\", \"idx\": 3, \"val\": 216}, {\"col\": \"SOUTHERN\", \"idx\": 3, \"val\": 788}, {\"col\": \"TARAVAL\", \"idx\": 3, \"val\": 250}, {\"col\": \"TENDERLOIN\", \"idx\": 3, \"val\": 343}, {\"col\": \"BAYVIEW\", \"idx\": 4, \"val\": 416}, {\"col\": \"CENTRAL\", \"idx\": 4, \"val\": 590}, {\"col\": \"INGLESIDE\", \"idx\": 4, \"val\": 342}, {\"col\": \"MISSION\", \"idx\": 4, \"val\": 576}, {\"col\": \"NORTHERN\", \"idx\": 4, \"val\": 602}, {\"col\": \"PARK\", \"idx\": 4, \"val\": 219}, {\"col\": \"RICHMOND\", \"idx\": 4, \"val\": 226}, {\"col\": \"SOUTHERN\", \"idx\": 4, \"val\": 908}, {\"col\": \"TARAVAL\", \"idx\": 4, \"val\": 275}, {\"col\": \"TENDERLOIN\", \"idx\": 4, \"val\": 297}, {\"col\": \"BAYVIEW\", \"idx\": 5, \"val\": 401}, {\"col\": \"CENTRAL\", \"idx\": 5, \"val\": 539}, {\"col\": \"INGLESIDE\", \"idx\": 5, \"val\": 312}, {\"col\": \"MISSION\", \"idx\": 5, \"val\": 578}, {\"col\": \"NORTHERN\", \"idx\": 5, \"val\": 584}, {\"col\": \"PARK\", \"idx\": 5, \"val\": 237}, {\"col\": \"RICHMOND\", \"idx\": 5, \"val\": 231}, {\"col\": \"SOUTHERN\", \"idx\": 5, \"val\": 895}, {\"col\": \"TARAVAL\", \"idx\": 5, \"val\": 247}, {\"col\": \"TENDERLOIN\", \"idx\": 5, \"val\": 295}, {\"col\": \"BAYVIEW\", \"idx\": 6, \"val\": 323}, {\"col\": \"CENTRAL\", \"idx\": 6, \"val\": 564}, {\"col\": \"INGLESIDE\", \"idx\": 6, \"val\": 332}, {\"col\": \"MISSION\", \"idx\": 6, \"val\": 573}, {\"col\": \"NORTHERN\", \"idx\": 6, \"val\": 558}, {\"col\": \"PARK\", \"idx\": 6, \"val\": 249}, {\"col\": \"RICHMOND\", \"idx\": 6, \"val\": 239}, {\"col\": \"SOUTHERN\", \"idx\": 6, \"val\": 871}, {\"col\": \"TARAVAL\", \"idx\": 6, \"val\": 227}, {\"col\": \"TENDERLOIN\", \"idx\": 6, \"val\": 282}]}], \"height\": 500, \"legends\": [{\"fill\": \"color\", \"offset\": 0, \"properties\": {}, \"title\": \"District\"}], \"marks\": [{\"from\": {\"data\": \"table\", \"transform\": [{\"keys\": [\"data.col\"], \"type\": \"facet\"}]}, \"marks\": [{\"properties\": {\"enter\": {\"stroke\": {\"field\": \"data.col\", \"scale\": \"color\"}, \"strokeWidth\": {\"value\": 2}, \"x\": {\"field\": \"data.idx\", \"scale\": \"x\"}, \"y\": {\"field\": \"data.val\", \"scale\": \"y\"}}}, \"type\": \"line\"}], \"type\": \"group\"}], \"padding\": \"auto\", \"scales\": [{\"domain\": {\"data\": \"table\", \"field\": \"data.idx\"}, \"name\": \"x\", \"range\": \"width\", \"type\": \"linear\"}, {\"domain\": {\"data\": \"table\", \"field\": \"data.val\"}, \"name\": \"y\", \"nice\": true, \"range\": \"height\"}, {\"domain\": {\"data\": \"table\", \"field\": \"data.col\"}, \"name\": \"color\", \"range\": \"category20\", \"type\": \"ordinal\"}], \"width\": 960}, function(chart) {\n",
       "         chart({el: \"#vis8fd9cc23f8de4e8db21a0d101f625484\"}).update();\n",
       "       });\n",
       "     };\n",
       "     _do_plot();\n",
       "   })();\n",
       "</script>\n",
       "<style>.vega canvas {width: 100%;}</style>\n",
       "        "
      ],
      "text/plain": [
       "<IPython.core.display.HTML object>"
      ]
     },
     "metadata": {},
     "output_type": "display_data"
    }
   ],
   "source": [
    "graph = vincent.Line(by_year)\n",
    "graph.legend(title='District')\n",
    "graph.axis_titles(x='Weekday', y='Incident Count')\n",
    "\n",
    "graph.display()"
   ]
  },
  {
   "cell_type": "markdown",
   "metadata": {},
   "source": [
    "### Top incident category in Mission district \n",
    "\n",
    "Limiting the incidents to Mission District and excluding the incident categories 'LARCENY/THEFT','NON-CRIMINAL','OTHER OFFENSES','WARRANTS'.\n",
    "\n",
    "This shows that the Missing Person is the third highest incident category in Mission district."
   ]
  },
  {
   "cell_type": "code",
   "execution_count": 8,
   "metadata": {
    "collapsed": true
   },
   "outputs": [],
   "source": [
    "filtered = incidents[incidents['District'] == 'MISSION']\n",
    "filtered = filtered[~filtered['Category'].isin(['LARCENY/THEFT'\n",
    "                                               ,'NON-CRIMINAL'\n",
    "                                               ,'OTHER OFFENSES'\n",
    "                                               ,'WARRANTS'])]"
   ]
  },
  {
   "cell_type": "code",
   "execution_count": 9,
   "metadata": {
    "collapsed": false
   },
   "outputs": [
    {
     "data": {
      "text/html": [
       "<div id=\"visaa52acbf3d2b45a3a18e25803e363deb\"></div>\n",
       "<script>\n",
       "   ( function() {\n",
       "     var _do_plot = function() {\n",
       "       if (typeof vg === 'undefined') {\n",
       "         window.addEventListener('vincent_libs_loaded', _do_plot)\n",
       "         return;\n",
       "       }\n",
       "       vg.parse.spec({\"axes\": [{\"properties\": {\"labels\": {\"align\": {\"value\": \"right\"}, \"angle\": {\"value\": 270}}}, \"scale\": \"x\", \"title\": \"Category\", \"type\": \"x\"}, {\"scale\": \"y\", \"title\": \"Incident Count\", \"type\": \"y\"}], \"data\": [{\"name\": \"table\", \"values\": [{\"col\": \"count\", \"idx\": \"VANDALISM\", \"val\": 1}, {\"col\": \"count\", \"idx\": \"GAMBLING\", \"val\": 1}, {\"col\": \"count\", \"idx\": \"BURGLARY\", \"val\": 2}, {\"col\": \"count\", \"idx\": \"STOLEN PROPERTY\", \"val\": 3}, {\"col\": \"count\", \"idx\": \"EXTORTION\", \"val\": 3}, {\"col\": \"count\", \"idx\": \"FORGERY/COUNTERFEITING\", \"val\": 3}, {\"col\": \"count\", \"idx\": \"LIQUOR LAWS\", \"val\": 3}, {\"col\": \"count\", \"idx\": \"SUICIDE\", \"val\": 4}, {\"col\": \"count\", \"idx\": \"FAMILY OFFENSES\", \"val\": 8}, {\"col\": \"count\", \"idx\": \"ARSON\", \"val\": 11}, {\"col\": \"count\", \"idx\": \"DRIVING UNDER THE INFLUENCE\", \"val\": 11}, {\"col\": \"count\", \"idx\": \"DISORDERLY CONDUCT\", \"val\": 12}, {\"col\": \"count\", \"idx\": \"KIDNAPPING\", \"val\": 15}, {\"col\": \"count\", \"idx\": \"RUNAWAY\", \"val\": 19}, {\"col\": \"count\", \"idx\": \"PROSTITUTION\", \"val\": 23}, {\"col\": \"count\", \"idx\": \"DRUNKENNESS\", \"val\": 37}, {\"col\": \"count\", \"idx\": \"ROBBERY\", \"val\": 42}, {\"col\": \"count\", \"idx\": \"FRAUD\", \"val\": 49}, {\"col\": \"count\", \"idx\": \"TRESPASS\", \"val\": 59}, {\"col\": \"count\", \"idx\": \"WEAPON LAWS\", \"val\": 74}, {\"col\": \"count\", \"idx\": \"SECONDARY CODES\", \"val\": 77}, {\"col\": \"count\", \"idx\": \"SUSPICIOUS OCC\", \"val\": 165}, {\"col\": \"count\", \"idx\": \"DRUG/NARCOTIC\", \"val\": 217}, {\"col\": \"count\", \"idx\": \"MISSING PERSON\", \"val\": 297}, {\"col\": \"count\", \"idx\": \"VEHICLE THEFT\", \"val\": 306}, {\"col\": \"count\", \"idx\": \"ASSAULT\", \"val\": 459}]}, {\"name\": \"stats\", \"source\": \"table\", \"transform\": [{\"keys\": [\"data.idx\"], \"type\": \"facet\"}, {\"type\": \"stats\", \"value\": \"data.val\"}]}], \"height\": 500, \"legends\": [{\"fill\": \"color\", \"offset\": 0, \"properties\": {}, \"title\": \"Category\"}], \"marks\": [{\"from\": {\"data\": \"table\", \"transform\": [{\"keys\": [\"data.col\"], \"type\": \"facet\"}, {\"height\": \"data.val\", \"point\": \"data.idx\", \"type\": \"stack\"}]}, \"marks\": [{\"properties\": {\"enter\": {\"fill\": {\"field\": \"data.col\", \"scale\": \"color\"}, \"width\": {\"band\": true, \"offset\": -1, \"scale\": \"x\"}, \"x\": {\"field\": \"data.idx\", \"scale\": \"x\"}, \"y\": {\"field\": \"y\", \"scale\": \"y\"}, \"y2\": {\"field\": \"y2\", \"scale\": \"y\"}}}, \"type\": \"rect\"}], \"type\": \"group\"}], \"padding\": \"auto\", \"scales\": [{\"domain\": {\"data\": \"table\", \"field\": \"data.idx\"}, \"name\": \"x\", \"range\": \"width\", \"type\": \"ordinal\", \"zero\": false}, {\"domain\": {\"data\": \"stats\", \"field\": \"sum\"}, \"name\": \"y\", \"nice\": true, \"range\": \"height\"}, {\"domain\": {\"data\": \"table\", \"field\": \"data.col\"}, \"name\": \"color\", \"range\": \"category20\", \"type\": \"ordinal\"}], \"width\": 960}, function(chart) {\n",
       "         chart({el: \"#visaa52acbf3d2b45a3a18e25803e363deb\"}).update();\n",
       "       });\n",
       "     };\n",
       "     _do_plot();\n",
       "   })();\n",
       "</script>\n",
       "<style>.vega canvas {width: 100%;}</style>\n",
       "        "
      ],
      "text/plain": [
       "<IPython.core.display.HTML object>"
      ]
     },
     "metadata": {},
     "output_type": "display_data"
    }
   ],
   "source": [
    "count_by_category = pd.DataFrame({'count' : filtered.groupby( ['Category'] ).size()}).reset_index()\n",
    "count_by_category.sort_values(by='count',ascending= True,inplace=True)\n",
    "index = count_by_category['Category']\n",
    "\n",
    "graph = vincent.Bar(count_by_category,columns=['count'], key_on='Category')\n",
    "graph.legend(title='Category')\n",
    "graph.axis_titles(x='Category', y='Incident Count')\n",
    "ax = AxisProperties(\n",
    "    labels=PropertySet(\n",
    "        angle=ValueRef(value=270),\n",
    "        align=ValueRef(value='right')\n",
    "        )\n",
    "    )\n",
    "graph.axes[0].properties = ax\n",
    "graph.display()"
   ]
  },
  {
   "cell_type": "markdown",
   "metadata": {},
   "source": [
    "## The graph result is surprising. \"Missing Person\" incidents are fourth highest compared to overall SFO"
   ]
  },
  {
   "cell_type": "markdown",
   "metadata": {},
   "source": [
    "### Comparing this trend across other districts\n",
    "\n",
    "The comparison shows that the trend is clearly something that is unique to Mission District and the number of missing person incidents is rather high compared to the other districts"
   ]
  },
  {
   "cell_type": "code",
   "execution_count": 10,
   "metadata": {
    "collapsed": true
   },
   "outputs": [],
   "source": [
    "filter_by_category = 'MISSING PERSON'"
   ]
  },
  {
   "cell_type": "code",
   "execution_count": 11,
   "metadata": {
    "collapsed": false,
    "scrolled": true
   },
   "outputs": [
    {
     "data": {
      "text/html": [
       "<div id=\"vis919e5203a50d43a8a8e9d99726bda924\"></div>\n",
       "<script>\n",
       "   ( function() {\n",
       "     var _do_plot = function() {\n",
       "       if (typeof vg === 'undefined') {\n",
       "         window.addEventListener('vincent_libs_loaded', _do_plot)\n",
       "         return;\n",
       "       }\n",
       "       vg.parse.spec({\"axes\": [{\"scale\": \"x\", \"title\": \"Hour\", \"type\": \"x\"}, {\"scale\": \"y\", \"title\": \"Incident Count\", \"type\": \"y\"}], \"data\": [{\"name\": \"table\", \"values\": [{\"col\": \"BAYVIEW\", \"idx\": 0, \"val\": 4.0}, {\"col\": \"CENTRAL\", \"idx\": 0, \"val\": 4.0}, {\"col\": \"INGLESIDE\", \"idx\": 0, \"val\": 3.0}, {\"col\": \"MISSION\", \"idx\": 0, \"val\": 4.0}, {\"col\": \"NORTHERN\", \"idx\": 0, \"val\": 7.0}, {\"col\": \"PARK\", \"idx\": 0, \"val\": 2.0}, {\"col\": \"RICHMOND\", \"idx\": 0, \"val\": 1.0}, {\"col\": \"SOUTHERN\", \"idx\": 0, \"val\": 6.0}, {\"col\": \"TARAVAL\", \"idx\": 0, \"val\": 2.0}, {\"col\": \"TENDERLOIN\", \"idx\": 0, \"val\": 6.0}, {\"col\": \"BAYVIEW\", \"idx\": 1, \"val\": 6.0}, {\"col\": \"CENTRAL\", \"idx\": 1, \"val\": 5.0}, {\"col\": \"INGLESIDE\", \"idx\": 1, \"val\": NaN}, {\"col\": \"MISSION\", \"idx\": 1, \"val\": NaN}, {\"col\": \"NORTHERN\", \"idx\": 1, \"val\": 1.0}, {\"col\": \"PARK\", \"idx\": 1, \"val\": 5.0}, {\"col\": \"RICHMOND\", \"idx\": 1, \"val\": NaN}, {\"col\": \"SOUTHERN\", \"idx\": 1, \"val\": 6.0}, {\"col\": \"TARAVAL\", \"idx\": 1, \"val\": NaN}, {\"col\": \"TENDERLOIN\", \"idx\": 1, \"val\": NaN}, {\"col\": \"BAYVIEW\", \"idx\": 2, \"val\": NaN}, {\"col\": \"CENTRAL\", \"idx\": 2, \"val\": NaN}, {\"col\": \"INGLESIDE\", \"idx\": 2, \"val\": 5.0}, {\"col\": \"MISSION\", \"idx\": 2, \"val\": 2.0}, {\"col\": \"NORTHERN\", \"idx\": 2, \"val\": 1.0}, {\"col\": \"PARK\", \"idx\": 2, \"val\": 3.0}, {\"col\": \"RICHMOND\", \"idx\": 2, \"val\": NaN}, {\"col\": \"SOUTHERN\", \"idx\": 2, \"val\": 2.0}, {\"col\": \"TARAVAL\", \"idx\": 2, \"val\": 1.0}, {\"col\": \"TENDERLOIN\", \"idx\": 2, \"val\": NaN}, {\"col\": \"BAYVIEW\", \"idx\": 3, \"val\": NaN}, {\"col\": \"CENTRAL\", \"idx\": 3, \"val\": 1.0}, {\"col\": \"INGLESIDE\", \"idx\": 3, \"val\": NaN}, {\"col\": \"MISSION\", \"idx\": 3, \"val\": NaN}, {\"col\": \"NORTHERN\", \"idx\": 3, \"val\": 3.0}, {\"col\": \"PARK\", \"idx\": 3, \"val\": 1.0}, {\"col\": \"RICHMOND\", \"idx\": 3, \"val\": NaN}, {\"col\": \"SOUTHERN\", \"idx\": 3, \"val\": NaN}, {\"col\": \"TARAVAL\", \"idx\": 3, \"val\": NaN}, {\"col\": \"TENDERLOIN\", \"idx\": 3, \"val\": NaN}, {\"col\": \"BAYVIEW\", \"idx\": 4, \"val\": NaN}, {\"col\": \"CENTRAL\", \"idx\": 4, \"val\": 5.0}, {\"col\": \"INGLESIDE\", \"idx\": 4, \"val\": 2.0}, {\"col\": \"MISSION\", \"idx\": 4, \"val\": NaN}, {\"col\": \"NORTHERN\", \"idx\": 4, \"val\": 2.0}, {\"col\": \"PARK\", \"idx\": 4, \"val\": NaN}, {\"col\": \"RICHMOND\", \"idx\": 4, \"val\": NaN}, {\"col\": \"SOUTHERN\", \"idx\": 4, \"val\": NaN}, {\"col\": \"TARAVAL\", \"idx\": 4, \"val\": NaN}, {\"col\": \"TENDERLOIN\", \"idx\": 4, \"val\": 1.0}, {\"col\": \"BAYVIEW\", \"idx\": 5, \"val\": NaN}, {\"col\": \"CENTRAL\", \"idx\": 5, \"val\": 6.0}, {\"col\": \"INGLESIDE\", \"idx\": 5, \"val\": NaN}, {\"col\": \"MISSION\", \"idx\": 5, \"val\": 2.0}, {\"col\": \"NORTHERN\", \"idx\": 5, \"val\": NaN}, {\"col\": \"PARK\", \"idx\": 5, \"val\": 1.0}, {\"col\": \"RICHMOND\", \"idx\": 5, \"val\": NaN}, {\"col\": \"SOUTHERN\", \"idx\": 5, \"val\": NaN}, {\"col\": \"TARAVAL\", \"idx\": 5, \"val\": 2.0}, {\"col\": \"TENDERLOIN\", \"idx\": 5, \"val\": NaN}, {\"col\": \"BAYVIEW\", \"idx\": 6, \"val\": 1.0}, {\"col\": \"CENTRAL\", \"idx\": 6, \"val\": 2.0}, {\"col\": \"INGLESIDE\", \"idx\": 6, \"val\": NaN}, {\"col\": \"MISSION\", \"idx\": 6, \"val\": NaN}, {\"col\": \"NORTHERN\", \"idx\": 6, \"val\": 2.0}, {\"col\": \"PARK\", \"idx\": 6, \"val\": NaN}, {\"col\": \"RICHMOND\", \"idx\": 6, \"val\": NaN}, {\"col\": \"SOUTHERN\", \"idx\": 6, \"val\": 5.0}, {\"col\": \"TARAVAL\", \"idx\": 6, \"val\": 2.0}, {\"col\": \"TENDERLOIN\", \"idx\": 6, \"val\": 1.0}, {\"col\": \"BAYVIEW\", \"idx\": 7, \"val\": 7.0}, {\"col\": \"CENTRAL\", \"idx\": 7, \"val\": 2.0}, {\"col\": \"INGLESIDE\", \"idx\": 7, \"val\": 4.0}, {\"col\": \"MISSION\", \"idx\": 7, \"val\": 2.0}, {\"col\": \"NORTHERN\", \"idx\": 7, \"val\": 4.0}, {\"col\": \"PARK\", \"idx\": 7, \"val\": 6.0}, {\"col\": \"RICHMOND\", \"idx\": 7, \"val\": 2.0}, {\"col\": \"SOUTHERN\", \"idx\": 7, \"val\": 4.0}, {\"col\": \"TARAVAL\", \"idx\": 7, \"val\": 11.0}, {\"col\": \"TENDERLOIN\", \"idx\": 7, \"val\": 1.0}, {\"col\": \"BAYVIEW\", \"idx\": 8, \"val\": 11.0}, {\"col\": \"CENTRAL\", \"idx\": 8, \"val\": 7.0}, {\"col\": \"INGLESIDE\", \"idx\": 8, \"val\": 9.0}, {\"col\": \"MISSION\", \"idx\": 8, \"val\": 7.0}, {\"col\": \"NORTHERN\", \"idx\": 8, \"val\": 3.0}, {\"col\": \"PARK\", \"idx\": 8, \"val\": 12.0}, {\"col\": \"RICHMOND\", \"idx\": 8, \"val\": 4.0}, {\"col\": \"SOUTHERN\", \"idx\": 8, \"val\": 13.0}, {\"col\": \"TARAVAL\", \"idx\": 8, \"val\": 8.0}, {\"col\": \"TENDERLOIN\", \"idx\": 8, \"val\": 2.0}, {\"col\": \"BAYVIEW\", \"idx\": 9, \"val\": 8.0}, {\"col\": \"CENTRAL\", \"idx\": 9, \"val\": 6.0}, {\"col\": \"INGLESIDE\", \"idx\": 9, \"val\": 9.0}, {\"col\": \"MISSION\", \"idx\": 9, \"val\": 19.0}, {\"col\": \"NORTHERN\", \"idx\": 9, \"val\": 4.0}, {\"col\": \"PARK\", \"idx\": 9, \"val\": 6.0}, {\"col\": \"RICHMOND\", \"idx\": 9, \"val\": 6.0}, {\"col\": \"SOUTHERN\", \"idx\": 9, \"val\": NaN}, {\"col\": \"TARAVAL\", \"idx\": 9, \"val\": 4.0}, {\"col\": \"TENDERLOIN\", \"idx\": 9, \"val\": NaN}, {\"col\": \"BAYVIEW\", \"idx\": 10, \"val\": 7.0}, {\"col\": \"CENTRAL\", \"idx\": 10, \"val\": 5.0}, {\"col\": \"INGLESIDE\", \"idx\": 10, \"val\": 5.0}, {\"col\": \"MISSION\", \"idx\": 10, \"val\": 34.0}, {\"col\": \"NORTHERN\", \"idx\": 10, \"val\": 6.0}, {\"col\": \"PARK\", \"idx\": 10, \"val\": 16.0}, {\"col\": \"RICHMOND\", \"idx\": 10, \"val\": 4.0}, {\"col\": \"SOUTHERN\", \"idx\": 10, \"val\": 14.0}, {\"col\": \"TARAVAL\", \"idx\": 10, \"val\": 5.0}, {\"col\": \"TENDERLOIN\", \"idx\": 10, \"val\": 5.0}, {\"col\": \"BAYVIEW\", \"idx\": 11, \"val\": 5.0}, {\"col\": \"CENTRAL\", \"idx\": 11, \"val\": 2.0}, {\"col\": \"INGLESIDE\", \"idx\": 11, \"val\": 18.0}, {\"col\": \"MISSION\", \"idx\": 11, \"val\": 55.0}, {\"col\": \"NORTHERN\", \"idx\": 11, \"val\": 5.0}, {\"col\": \"PARK\", \"idx\": 11, \"val\": 8.0}, {\"col\": \"RICHMOND\", \"idx\": 11, \"val\": 2.0}, {\"col\": \"SOUTHERN\", \"idx\": 11, \"val\": NaN}, {\"col\": \"TARAVAL\", \"idx\": 11, \"val\": 9.0}, {\"col\": \"TENDERLOIN\", \"idx\": 11, \"val\": 6.0}, {\"col\": \"BAYVIEW\", \"idx\": 12, \"val\": 11.0}, {\"col\": \"CENTRAL\", \"idx\": 12, \"val\": 12.0}, {\"col\": \"INGLESIDE\", \"idx\": 12, \"val\": 2.0}, {\"col\": \"MISSION\", \"idx\": 12, \"val\": 39.0}, {\"col\": \"NORTHERN\", \"idx\": 12, \"val\": 8.0}, {\"col\": \"PARK\", \"idx\": 12, \"val\": 11.0}, {\"col\": \"RICHMOND\", \"idx\": 12, \"val\": 10.0}, {\"col\": \"SOUTHERN\", \"idx\": 12, \"val\": 16.0}, {\"col\": \"TARAVAL\", \"idx\": 12, \"val\": 6.0}, {\"col\": \"TENDERLOIN\", \"idx\": 12, \"val\": 4.0}, {\"col\": \"BAYVIEW\", \"idx\": 13, \"val\": 4.0}, {\"col\": \"CENTRAL\", \"idx\": 13, \"val\": 2.0}, {\"col\": \"INGLESIDE\", \"idx\": 13, \"val\": 9.0}, {\"col\": \"MISSION\", \"idx\": 13, \"val\": 9.0}, {\"col\": \"NORTHERN\", \"idx\": 13, \"val\": 7.0}, {\"col\": \"PARK\", \"idx\": 13, \"val\": 6.0}, {\"col\": \"RICHMOND\", \"idx\": 13, \"val\": 3.0}, {\"col\": \"SOUTHERN\", \"idx\": 13, \"val\": 4.0}, {\"col\": \"TARAVAL\", \"idx\": 13, \"val\": 4.0}, {\"col\": \"TENDERLOIN\", \"idx\": 13, \"val\": 4.0}, {\"col\": \"BAYVIEW\", \"idx\": 14, \"val\": 12.0}, {\"col\": \"CENTRAL\", \"idx\": 14, \"val\": 2.0}, {\"col\": \"INGLESIDE\", \"idx\": 14, \"val\": 4.0}, {\"col\": \"MISSION\", \"idx\": 14, \"val\": 18.0}, {\"col\": \"NORTHERN\", \"idx\": 14, \"val\": 4.0}, {\"col\": \"PARK\", \"idx\": 14, \"val\": 20.0}, {\"col\": \"RICHMOND\", \"idx\": 14, \"val\": NaN}, {\"col\": \"SOUTHERN\", \"idx\": 14, \"val\": 15.0}, {\"col\": \"TARAVAL\", \"idx\": 14, \"val\": 8.0}, {\"col\": \"TENDERLOIN\", \"idx\": 14, \"val\": NaN}, {\"col\": \"BAYVIEW\", \"idx\": 15, \"val\": 17.0}, {\"col\": \"CENTRAL\", \"idx\": 15, \"val\": 2.0}, {\"col\": \"INGLESIDE\", \"idx\": 15, \"val\": 2.0}, {\"col\": \"MISSION\", \"idx\": 15, \"val\": 17.0}, {\"col\": \"NORTHERN\", \"idx\": 15, \"val\": 8.0}, {\"col\": \"PARK\", \"idx\": 15, \"val\": 6.0}, {\"col\": \"RICHMOND\", \"idx\": 15, \"val\": NaN}, {\"col\": \"SOUTHERN\", \"idx\": 15, \"val\": 17.0}, {\"col\": \"TARAVAL\", \"idx\": 15, \"val\": 4.0}, {\"col\": \"TENDERLOIN\", \"idx\": 15, \"val\": 6.0}, {\"col\": \"BAYVIEW\", \"idx\": 16, \"val\": 11.0}, {\"col\": \"CENTRAL\", \"idx\": 16, \"val\": 8.0}, {\"col\": \"INGLESIDE\", \"idx\": 16, \"val\": 9.0}, {\"col\": \"MISSION\", \"idx\": 16, \"val\": 27.0}, {\"col\": \"NORTHERN\", \"idx\": 16, \"val\": 8.0}, {\"col\": \"PARK\", \"idx\": 16, \"val\": 5.0}, {\"col\": \"RICHMOND\", \"idx\": 16, \"val\": NaN}, {\"col\": \"SOUTHERN\", \"idx\": 16, \"val\": 12.0}, {\"col\": \"TARAVAL\", \"idx\": 16, \"val\": 4.0}, {\"col\": \"TENDERLOIN\", \"idx\": 16, \"val\": 3.0}, {\"col\": \"BAYVIEW\", \"idx\": 17, \"val\": 3.0}, {\"col\": \"CENTRAL\", \"idx\": 17, \"val\": NaN}, {\"col\": \"INGLESIDE\", \"idx\": 17, \"val\": 4.0}, {\"col\": \"MISSION\", \"idx\": 17, \"val\": 10.0}, {\"col\": \"NORTHERN\", \"idx\": 17, \"val\": 8.0}, {\"col\": \"PARK\", \"idx\": 17, \"val\": 5.0}, {\"col\": \"RICHMOND\", \"idx\": 17, \"val\": 2.0}, {\"col\": \"SOUTHERN\", \"idx\": 17, \"val\": 15.0}, {\"col\": \"TARAVAL\", \"idx\": 17, \"val\": 4.0}, {\"col\": \"TENDERLOIN\", \"idx\": 17, \"val\": 2.0}, {\"col\": \"BAYVIEW\", \"idx\": 18, \"val\": 12.0}, {\"col\": \"CENTRAL\", \"idx\": 18, \"val\": 5.0}, {\"col\": \"INGLESIDE\", \"idx\": 18, \"val\": 13.0}, {\"col\": \"MISSION\", \"idx\": 18, \"val\": 1.0}, {\"col\": \"NORTHERN\", \"idx\": 18, \"val\": 2.0}, {\"col\": \"PARK\", \"idx\": 18, \"val\": 3.0}, {\"col\": \"RICHMOND\", \"idx\": 18, \"val\": 1.0}, {\"col\": \"SOUTHERN\", \"idx\": 18, \"val\": 7.0}, {\"col\": \"TARAVAL\", \"idx\": 18, \"val\": 6.0}, {\"col\": \"TENDERLOIN\", \"idx\": 18, \"val\": 2.0}, {\"col\": \"BAYVIEW\", \"idx\": 19, \"val\": 6.0}, {\"col\": \"CENTRAL\", \"idx\": 19, \"val\": 4.0}, {\"col\": \"INGLESIDE\", \"idx\": 19, \"val\": 4.0}, {\"col\": \"MISSION\", \"idx\": 19, \"val\": 8.0}, {\"col\": \"NORTHERN\", \"idx\": 19, \"val\": 2.0}, {\"col\": \"PARK\", \"idx\": 19, \"val\": 8.0}, {\"col\": \"RICHMOND\", \"idx\": 19, \"val\": 2.0}, {\"col\": \"SOUTHERN\", \"idx\": 19, \"val\": 7.0}, {\"col\": \"TARAVAL\", \"idx\": 19, \"val\": 7.0}, {\"col\": \"TENDERLOIN\", \"idx\": 19, \"val\": NaN}, {\"col\": \"BAYVIEW\", \"idx\": 20, \"val\": 4.0}, {\"col\": \"CENTRAL\", \"idx\": 20, \"val\": 1.0}, {\"col\": \"INGLESIDE\", \"idx\": 20, \"val\": 7.0}, {\"col\": \"MISSION\", \"idx\": 20, \"val\": 4.0}, {\"col\": \"NORTHERN\", \"idx\": 20, \"val\": 3.0}, {\"col\": \"PARK\", \"idx\": 20, \"val\": 5.0}, {\"col\": \"RICHMOND\", \"idx\": 20, \"val\": 5.0}, {\"col\": \"SOUTHERN\", \"idx\": 20, \"val\": 4.0}, {\"col\": \"TARAVAL\", \"idx\": 20, \"val\": 6.0}, {\"col\": \"TENDERLOIN\", \"idx\": 20, \"val\": 2.0}, {\"col\": \"BAYVIEW\", \"idx\": 21, \"val\": 4.0}, {\"col\": \"CENTRAL\", \"idx\": 21, \"val\": 5.0}, {\"col\": \"INGLESIDE\", \"idx\": 21, \"val\": 6.0}, {\"col\": \"MISSION\", \"idx\": 21, \"val\": 16.0}, {\"col\": \"NORTHERN\", \"idx\": 21, \"val\": 4.0}, {\"col\": \"PARK\", \"idx\": 21, \"val\": 4.0}, {\"col\": \"RICHMOND\", \"idx\": 21, \"val\": 2.0}, {\"col\": \"SOUTHERN\", \"idx\": 21, \"val\": 7.0}, {\"col\": \"TARAVAL\", \"idx\": 21, \"val\": 5.0}, {\"col\": \"TENDERLOIN\", \"idx\": 21, \"val\": 4.0}, {\"col\": \"BAYVIEW\", \"idx\": 22, \"val\": 2.0}, {\"col\": \"CENTRAL\", \"idx\": 22, \"val\": NaN}, {\"col\": \"INGLESIDE\", \"idx\": 22, \"val\": 10.0}, {\"col\": \"MISSION\", \"idx\": 22, \"val\": 15.0}, {\"col\": \"NORTHERN\", \"idx\": 22, \"val\": 4.0}, {\"col\": \"PARK\", \"idx\": 22, \"val\": 4.0}, {\"col\": \"RICHMOND\", \"idx\": 22, \"val\": 2.0}, {\"col\": \"SOUTHERN\", \"idx\": 22, \"val\": 3.0}, {\"col\": \"TARAVAL\", \"idx\": 22, \"val\": 9.0}, {\"col\": \"TENDERLOIN\", \"idx\": 22, \"val\": 3.0}, {\"col\": \"BAYVIEW\", \"idx\": 23, \"val\": 6.0}, {\"col\": \"CENTRAL\", \"idx\": 23, \"val\": NaN}, {\"col\": \"INGLESIDE\", \"idx\": 23, \"val\": 6.0}, {\"col\": \"MISSION\", \"idx\": 23, \"val\": 8.0}, {\"col\": \"NORTHERN\", \"idx\": 23, \"val\": 5.0}, {\"col\": \"PARK\", \"idx\": 23, \"val\": 4.0}, {\"col\": \"RICHMOND\", \"idx\": 23, \"val\": 4.0}, {\"col\": \"SOUTHERN\", \"idx\": 23, \"val\": 2.0}, {\"col\": \"TARAVAL\", \"idx\": 23, \"val\": NaN}, {\"col\": \"TENDERLOIN\", \"idx\": 23, \"val\": 1.0}]}], \"height\": 500, \"legends\": [{\"fill\": \"color\", \"offset\": 0, \"properties\": {}, \"title\": \"District\"}], \"marks\": [{\"from\": {\"data\": \"table\", \"transform\": [{\"keys\": [\"data.col\"], \"type\": \"facet\"}]}, \"marks\": [{\"properties\": {\"enter\": {\"stroke\": {\"field\": \"data.col\", \"scale\": \"color\"}, \"strokeWidth\": {\"value\": 2}, \"x\": {\"field\": \"data.idx\", \"scale\": \"x\"}, \"y\": {\"field\": \"data.val\", \"scale\": \"y\"}}}, \"type\": \"line\"}], \"type\": \"group\"}], \"padding\": \"auto\", \"scales\": [{\"domain\": {\"data\": \"table\", \"field\": \"data.idx\"}, \"name\": \"x\", \"range\": \"width\", \"type\": \"linear\"}, {\"domain\": {\"data\": \"table\", \"field\": \"data.val\"}, \"name\": \"y\", \"nice\": true, \"range\": \"height\"}, {\"domain\": {\"data\": \"table\", \"field\": \"data.col\"}, \"name\": \"color\", \"range\": \"category20\", \"type\": \"ordinal\"}], \"width\": 960}, function(chart) {\n",
       "         chart({el: \"#vis919e5203a50d43a8a8e9d99726bda924\"}).update();\n",
       "       });\n",
       "     };\n",
       "     _do_plot();\n",
       "   })();\n",
       "</script>\n",
       "<style>.vega canvas {width: 100%;}</style>\n",
       "        "
      ],
      "text/plain": [
       "<IPython.core.display.HTML object>"
      ]
     },
     "metadata": {},
     "output_type": "display_data"
    }
   ],
   "source": [
    "filtered = incidents[incidents['Category'] == filter_by_category]\n",
    "by_hour = filtered.pivot_table('Id'\n",
    "                                , aggfunc='count'\n",
    "                                , index='Hour'\n",
    "                                , columns='District')\n",
    "\n",
    "graph = vincent.Line(by_hour) #,columns=['count'],key_on='District')\n",
    "graph.legend(title='District')\n",
    "graph.axis_titles(x='Hour', y='Incident Count')\n",
    "\n",
    "graph.display()"
   ]
  },
  {
   "cell_type": "markdown",
   "metadata": {},
   "source": [
    "## Histogram plot of the \"Missing Person\" incidents across districts\n",
    "\n",
    "The plot clearly shows that the Missing Person incidents are almost double of the same incidents in Southern district, which has the next highest \"Missing Person\" rate. "
   ]
  },
  {
   "cell_type": "code",
   "execution_count": 12,
   "metadata": {
    "collapsed": false
   },
   "outputs": [
    {
     "data": {
      "text/html": [
       "<div id=\"vise5a520b26c2f486e9e9fea3b4765e0a1\"></div>\n",
       "<script>\n",
       "   ( function() {\n",
       "     var _do_plot = function() {\n",
       "       if (typeof vg === 'undefined') {\n",
       "         window.addEventListener('vincent_libs_loaded', _do_plot)\n",
       "         return;\n",
       "       }\n",
       "       vg.parse.spec({\"axes\": [{\"properties\": {\"labels\": {\"align\": {\"value\": \"right\"}, \"angle\": {\"value\": 270}}}, \"scale\": \"x\", \"title\": \"District\", \"type\": \"x\"}, {\"scale\": \"y\", \"title\": \"Incident Count\", \"type\": \"y\"}], \"data\": [{\"name\": \"table\", \"values\": [{\"col\": \"count\", \"idx\": \"RICHMOND\", \"val\": 50}, {\"col\": \"count\", \"idx\": \"TENDERLOIN\", \"val\": 53}, {\"col\": \"count\", \"idx\": \"CENTRAL\", \"val\": 86}, {\"col\": \"count\", \"idx\": \"NORTHERN\", \"val\": 101}, {\"col\": \"count\", \"idx\": \"TARAVAL\", \"val\": 107}, {\"col\": \"count\", \"idx\": \"INGLESIDE\", \"val\": 131}, {\"col\": \"count\", \"idx\": \"BAYVIEW\", \"val\": 141}, {\"col\": \"count\", \"idx\": \"PARK\", \"val\": 141}, {\"col\": \"count\", \"idx\": \"SOUTHERN\", \"val\": 159}, {\"col\": \"count\", \"idx\": \"MISSION\", \"val\": 297}]}, {\"name\": \"stats\", \"source\": \"table\", \"transform\": [{\"keys\": [\"data.idx\"], \"type\": \"facet\"}, {\"type\": \"stats\", \"value\": \"data.val\"}]}], \"height\": 500, \"legends\": [{\"fill\": \"color\", \"offset\": 0, \"properties\": {}, \"title\": \"District\"}], \"marks\": [{\"from\": {\"data\": \"table\", \"transform\": [{\"keys\": [\"data.col\"], \"type\": \"facet\"}, {\"height\": \"data.val\", \"point\": \"data.idx\", \"type\": \"stack\"}]}, \"marks\": [{\"properties\": {\"enter\": {\"fill\": {\"field\": \"data.col\", \"scale\": \"color\"}, \"width\": {\"band\": true, \"offset\": -1, \"scale\": \"x\"}, \"x\": {\"field\": \"data.idx\", \"scale\": \"x\"}, \"y\": {\"field\": \"y\", \"scale\": \"y\"}, \"y2\": {\"field\": \"y2\", \"scale\": \"y\"}}}, \"type\": \"rect\"}], \"type\": \"group\"}], \"padding\": \"auto\", \"scales\": [{\"domain\": {\"data\": \"table\", \"field\": \"data.idx\"}, \"name\": \"x\", \"range\": \"width\", \"type\": \"ordinal\", \"zero\": false}, {\"domain\": {\"data\": \"stats\", \"field\": \"sum\"}, \"name\": \"y\", \"nice\": true, \"range\": \"height\"}, {\"domain\": {\"data\": \"table\", \"field\": \"data.col\"}, \"name\": \"color\", \"range\": \"category20\", \"type\": \"ordinal\"}], \"width\": 960}, function(chart) {\n",
       "         chart({el: \"#vise5a520b26c2f486e9e9fea3b4765e0a1\"}).update();\n",
       "       });\n",
       "     };\n",
       "     _do_plot();\n",
       "   })();\n",
       "</script>\n",
       "<style>.vega canvas {width: 100%;}</style>\n",
       "        "
      ],
      "text/plain": [
       "<IPython.core.display.HTML object>"
      ]
     },
     "metadata": {},
     "output_type": "display_data"
    }
   ],
   "source": [
    "count_by_category = pd.DataFrame({'count' : filtered.groupby( ['District'] ).size()}).reset_index()\n",
    "count_by_category.sort_values(by='count',ascending= True,inplace=True)\n",
    "index = count_by_category['District']\n",
    "\n",
    "graph = vincent.Bar(count_by_category,columns=['count'], key_on='District')\n",
    "graph.legend(title='District')\n",
    "graph.axis_titles(x='District', y='Incident Count')\n",
    "ax = AxisProperties(\n",
    "    labels=PropertySet(\n",
    "        angle=ValueRef(value=270),\n",
    "        align=ValueRef(value='right')\n",
    "        )\n",
    "    )\n",
    "graph.axes[0].properties = ax\n",
    "graph.display()"
   ]
  },
  {
   "cell_type": "markdown",
   "metadata": {},
   "source": [
    "### Top 4 districts where \"Missing Person\" cases are relatively highest\n",
    "\n",
    "In the 4 districts where \"assaults\" are high, Southern District seems to be the highest. There is a peak post 5pm."
   ]
  },
  {
   "cell_type": "code",
   "execution_count": 13,
   "metadata": {
    "collapsed": false
   },
   "outputs": [],
   "source": [
    "filter_by_districts = ['MISSION','SOUTHERN','PARK','BAYVIEW']"
   ]
  },
  {
   "cell_type": "code",
   "execution_count": 14,
   "metadata": {
    "collapsed": false,
    "scrolled": true
   },
   "outputs": [
    {
     "data": {
      "text/html": [
       "<div id=\"visc1d5ba8c9ce840879325add6ba4a0d40\"></div>\n",
       "<script>\n",
       "   ( function() {\n",
       "     var _do_plot = function() {\n",
       "       if (typeof vg === 'undefined') {\n",
       "         window.addEventListener('vincent_libs_loaded', _do_plot)\n",
       "         return;\n",
       "       }\n",
       "       vg.parse.spec({\"axes\": [{\"scale\": \"x\", \"title\": \"Hour\", \"type\": \"x\"}, {\"scale\": \"y\", \"title\": \"Incident Count\", \"type\": \"y\"}], \"data\": [{\"name\": \"table\", \"values\": [{\"col\": \"BAYVIEW\", \"idx\": 0, \"val\": 4.0}, {\"col\": \"MISSION\", \"idx\": 0, \"val\": 4.0}, {\"col\": \"PARK\", \"idx\": 0, \"val\": 2.0}, {\"col\": \"SOUTHERN\", \"idx\": 0, \"val\": 6.0}, {\"col\": \"BAYVIEW\", \"idx\": 1, \"val\": 6.0}, {\"col\": \"MISSION\", \"idx\": 1, \"val\": NaN}, {\"col\": \"PARK\", \"idx\": 1, \"val\": 5.0}, {\"col\": \"SOUTHERN\", \"idx\": 1, \"val\": 6.0}, {\"col\": \"BAYVIEW\", \"idx\": 2, \"val\": NaN}, {\"col\": \"MISSION\", \"idx\": 2, \"val\": 2.0}, {\"col\": \"PARK\", \"idx\": 2, \"val\": 3.0}, {\"col\": \"SOUTHERN\", \"idx\": 2, \"val\": 2.0}, {\"col\": \"BAYVIEW\", \"idx\": 3, \"val\": NaN}, {\"col\": \"MISSION\", \"idx\": 3, \"val\": NaN}, {\"col\": \"PARK\", \"idx\": 3, \"val\": 1.0}, {\"col\": \"SOUTHERN\", \"idx\": 3, \"val\": NaN}, {\"col\": \"BAYVIEW\", \"idx\": 5, \"val\": NaN}, {\"col\": \"MISSION\", \"idx\": 5, \"val\": 2.0}, {\"col\": \"PARK\", \"idx\": 5, \"val\": 1.0}, {\"col\": \"SOUTHERN\", \"idx\": 5, \"val\": NaN}, {\"col\": \"BAYVIEW\", \"idx\": 6, \"val\": 1.0}, {\"col\": \"MISSION\", \"idx\": 6, \"val\": NaN}, {\"col\": \"PARK\", \"idx\": 6, \"val\": NaN}, {\"col\": \"SOUTHERN\", \"idx\": 6, \"val\": 5.0}, {\"col\": \"BAYVIEW\", \"idx\": 7, \"val\": 7.0}, {\"col\": \"MISSION\", \"idx\": 7, \"val\": 2.0}, {\"col\": \"PARK\", \"idx\": 7, \"val\": 6.0}, {\"col\": \"SOUTHERN\", \"idx\": 7, \"val\": 4.0}, {\"col\": \"BAYVIEW\", \"idx\": 8, \"val\": 11.0}, {\"col\": \"MISSION\", \"idx\": 8, \"val\": 7.0}, {\"col\": \"PARK\", \"idx\": 8, \"val\": 12.0}, {\"col\": \"SOUTHERN\", \"idx\": 8, \"val\": 13.0}, {\"col\": \"BAYVIEW\", \"idx\": 9, \"val\": 8.0}, {\"col\": \"MISSION\", \"idx\": 9, \"val\": 19.0}, {\"col\": \"PARK\", \"idx\": 9, \"val\": 6.0}, {\"col\": \"SOUTHERN\", \"idx\": 9, \"val\": NaN}, {\"col\": \"BAYVIEW\", \"idx\": 10, \"val\": 7.0}, {\"col\": \"MISSION\", \"idx\": 10, \"val\": 34.0}, {\"col\": \"PARK\", \"idx\": 10, \"val\": 16.0}, {\"col\": \"SOUTHERN\", \"idx\": 10, \"val\": 14.0}, {\"col\": \"BAYVIEW\", \"idx\": 11, \"val\": 5.0}, {\"col\": \"MISSION\", \"idx\": 11, \"val\": 55.0}, {\"col\": \"PARK\", \"idx\": 11, \"val\": 8.0}, {\"col\": \"SOUTHERN\", \"idx\": 11, \"val\": NaN}, {\"col\": \"BAYVIEW\", \"idx\": 12, \"val\": 11.0}, {\"col\": \"MISSION\", \"idx\": 12, \"val\": 39.0}, {\"col\": \"PARK\", \"idx\": 12, \"val\": 11.0}, {\"col\": \"SOUTHERN\", \"idx\": 12, \"val\": 16.0}, {\"col\": \"BAYVIEW\", \"idx\": 13, \"val\": 4.0}, {\"col\": \"MISSION\", \"idx\": 13, \"val\": 9.0}, {\"col\": \"PARK\", \"idx\": 13, \"val\": 6.0}, {\"col\": \"SOUTHERN\", \"idx\": 13, \"val\": 4.0}, {\"col\": \"BAYVIEW\", \"idx\": 14, \"val\": 12.0}, {\"col\": \"MISSION\", \"idx\": 14, \"val\": 18.0}, {\"col\": \"PARK\", \"idx\": 14, \"val\": 20.0}, {\"col\": \"SOUTHERN\", \"idx\": 14, \"val\": 15.0}, {\"col\": \"BAYVIEW\", \"idx\": 15, \"val\": 17.0}, {\"col\": \"MISSION\", \"idx\": 15, \"val\": 17.0}, {\"col\": \"PARK\", \"idx\": 15, \"val\": 6.0}, {\"col\": \"SOUTHERN\", \"idx\": 15, \"val\": 17.0}, {\"col\": \"BAYVIEW\", \"idx\": 16, \"val\": 11.0}, {\"col\": \"MISSION\", \"idx\": 16, \"val\": 27.0}, {\"col\": \"PARK\", \"idx\": 16, \"val\": 5.0}, {\"col\": \"SOUTHERN\", \"idx\": 16, \"val\": 12.0}, {\"col\": \"BAYVIEW\", \"idx\": 17, \"val\": 3.0}, {\"col\": \"MISSION\", \"idx\": 17, \"val\": 10.0}, {\"col\": \"PARK\", \"idx\": 17, \"val\": 5.0}, {\"col\": \"SOUTHERN\", \"idx\": 17, \"val\": 15.0}, {\"col\": \"BAYVIEW\", \"idx\": 18, \"val\": 12.0}, {\"col\": \"MISSION\", \"idx\": 18, \"val\": 1.0}, {\"col\": \"PARK\", \"idx\": 18, \"val\": 3.0}, {\"col\": \"SOUTHERN\", \"idx\": 18, \"val\": 7.0}, {\"col\": \"BAYVIEW\", \"idx\": 19, \"val\": 6.0}, {\"col\": \"MISSION\", \"idx\": 19, \"val\": 8.0}, {\"col\": \"PARK\", \"idx\": 19, \"val\": 8.0}, {\"col\": \"SOUTHERN\", \"idx\": 19, \"val\": 7.0}, {\"col\": \"BAYVIEW\", \"idx\": 20, \"val\": 4.0}, {\"col\": \"MISSION\", \"idx\": 20, \"val\": 4.0}, {\"col\": \"PARK\", \"idx\": 20, \"val\": 5.0}, {\"col\": \"SOUTHERN\", \"idx\": 20, \"val\": 4.0}, {\"col\": \"BAYVIEW\", \"idx\": 21, \"val\": 4.0}, {\"col\": \"MISSION\", \"idx\": 21, \"val\": 16.0}, {\"col\": \"PARK\", \"idx\": 21, \"val\": 4.0}, {\"col\": \"SOUTHERN\", \"idx\": 21, \"val\": 7.0}, {\"col\": \"BAYVIEW\", \"idx\": 22, \"val\": 2.0}, {\"col\": \"MISSION\", \"idx\": 22, \"val\": 15.0}, {\"col\": \"PARK\", \"idx\": 22, \"val\": 4.0}, {\"col\": \"SOUTHERN\", \"idx\": 22, \"val\": 3.0}, {\"col\": \"BAYVIEW\", \"idx\": 23, \"val\": 6.0}, {\"col\": \"MISSION\", \"idx\": 23, \"val\": 8.0}, {\"col\": \"PARK\", \"idx\": 23, \"val\": 4.0}, {\"col\": \"SOUTHERN\", \"idx\": 23, \"val\": 2.0}]}], \"height\": 500, \"legends\": [{\"fill\": \"color\", \"offset\": 0, \"properties\": {}, \"title\": \"District\"}], \"marks\": [{\"from\": {\"data\": \"table\", \"transform\": [{\"keys\": [\"data.col\"], \"type\": \"facet\"}]}, \"marks\": [{\"properties\": {\"enter\": {\"stroke\": {\"field\": \"data.col\", \"scale\": \"color\"}, \"strokeWidth\": {\"value\": 2}, \"x\": {\"field\": \"data.idx\", \"scale\": \"x\"}, \"y\": {\"field\": \"data.val\", \"scale\": \"y\"}}}, \"type\": \"line\"}], \"type\": \"group\"}], \"padding\": \"auto\", \"scales\": [{\"domain\": {\"data\": \"table\", \"field\": \"data.idx\"}, \"name\": \"x\", \"range\": \"width\", \"type\": \"linear\"}, {\"domain\": {\"data\": \"table\", \"field\": \"data.val\"}, \"name\": \"y\", \"nice\": true, \"range\": \"height\"}, {\"domain\": {\"data\": \"table\", \"field\": \"data.col\"}, \"name\": \"color\", \"range\": \"category20\", \"type\": \"ordinal\"}], \"width\": 960}, function(chart) {\n",
       "         chart({el: \"#visc1d5ba8c9ce840879325add6ba4a0d40\"}).update();\n",
       "       });\n",
       "     };\n",
       "     _do_plot();\n",
       "   })();\n",
       "</script>\n",
       "<style>.vega canvas {width: 100%;}</style>\n",
       "        "
      ],
      "text/plain": [
       "<IPython.core.display.HTML object>"
      ]
     },
     "metadata": {},
     "output_type": "display_data"
    }
   ],
   "source": [
    "filtered = incidents[incidents['Category'] == filter_by_category]\n",
    "filtered = filtered[filtered['District'].isin(filter_by_districts)]\n",
    "by_hour = filtered.pivot_table('Id'\n",
    "                                , aggfunc='count'\n",
    "                                , index='Hour'\n",
    "                                , columns='District')\n",
    "\n",
    "graph = vincent.Line(by_hour) #,columns=['count'],key_on='District')\n",
    "graph.legend(title='District')\n",
    "graph.axis_titles(x='Hour', y='Incident Count')\n",
    "\n",
    "graph.display()"
   ]
  },
  {
   "cell_type": "markdown",
   "metadata": {},
   "source": [
    "## Missing Person incidents peak at 11 am in Mission district\n",
    "\n",
    "The plot shows another surprising peak in the Missing Person incidents at 11 am."
   ]
  },
  {
   "cell_type": "code",
   "execution_count": 15,
   "metadata": {
    "collapsed": true
   },
   "outputs": [],
   "source": [
    "filter_by_district = 'MISSION'\n",
    "filter_by_category = 'MISSING PERSON'\n",
    "filtered = incidents[incidents['Category'] == filter_by_category]\n",
    "filtered = filtered[filtered['District'] == filter_by_district]"
   ]
  },
  {
   "cell_type": "code",
   "execution_count": 16,
   "metadata": {
    "collapsed": false
   },
   "outputs": [
    {
     "data": {
      "text/html": [
       "<div id=\"vis39f5c919d2fc4ecab8b9e68985ea7e16\"></div>\n",
       "<script>\n",
       "   ( function() {\n",
       "     var _do_plot = function() {\n",
       "       if (typeof vg === 'undefined') {\n",
       "         window.addEventListener('vincent_libs_loaded', _do_plot)\n",
       "         return;\n",
       "       }\n",
       "       vg.parse.spec({\"axes\": [{\"scale\": \"x\", \"title\": \"Hour\", \"type\": \"x\"}, {\"scale\": \"y\", \"title\": \"Incident Count\", \"type\": \"y\"}], \"data\": [{\"name\": \"table\", \"values\": [{\"col\": \"MISSING PERSON\", \"idx\": 0, \"val\": 4}, {\"col\": \"MISSING PERSON\", \"idx\": 2, \"val\": 2}, {\"col\": \"MISSING PERSON\", \"idx\": 5, \"val\": 2}, {\"col\": \"MISSING PERSON\", \"idx\": 7, \"val\": 2}, {\"col\": \"MISSING PERSON\", \"idx\": 8, \"val\": 7}, {\"col\": \"MISSING PERSON\", \"idx\": 9, \"val\": 19}, {\"col\": \"MISSING PERSON\", \"idx\": 10, \"val\": 34}, {\"col\": \"MISSING PERSON\", \"idx\": 11, \"val\": 55}, {\"col\": \"MISSING PERSON\", \"idx\": 12, \"val\": 39}, {\"col\": \"MISSING PERSON\", \"idx\": 13, \"val\": 9}, {\"col\": \"MISSING PERSON\", \"idx\": 14, \"val\": 18}, {\"col\": \"MISSING PERSON\", \"idx\": 15, \"val\": 17}, {\"col\": \"MISSING PERSON\", \"idx\": 16, \"val\": 27}, {\"col\": \"MISSING PERSON\", \"idx\": 17, \"val\": 10}, {\"col\": \"MISSING PERSON\", \"idx\": 18, \"val\": 1}, {\"col\": \"MISSING PERSON\", \"idx\": 19, \"val\": 8}, {\"col\": \"MISSING PERSON\", \"idx\": 20, \"val\": 4}, {\"col\": \"MISSING PERSON\", \"idx\": 21, \"val\": 16}, {\"col\": \"MISSING PERSON\", \"idx\": 22, \"val\": 15}, {\"col\": \"MISSING PERSON\", \"idx\": 23, \"val\": 8}]}], \"height\": 500, \"legends\": [{\"fill\": \"color\", \"offset\": 0, \"properties\": {}, \"title\": \"Category\"}], \"marks\": [{\"from\": {\"data\": \"table\", \"transform\": [{\"keys\": [\"data.col\"], \"type\": \"facet\"}]}, \"marks\": [{\"properties\": {\"enter\": {\"stroke\": {\"field\": \"data.col\", \"scale\": \"color\"}, \"strokeWidth\": {\"value\": 2}, \"x\": {\"field\": \"data.idx\", \"scale\": \"x\"}, \"y\": {\"field\": \"data.val\", \"scale\": \"y\"}}}, \"type\": \"line\"}], \"type\": \"group\"}], \"padding\": \"auto\", \"scales\": [{\"domain\": {\"data\": \"table\", \"field\": \"data.idx\"}, \"name\": \"x\", \"range\": \"width\", \"type\": \"linear\"}, {\"domain\": {\"data\": \"table\", \"field\": \"data.val\"}, \"name\": \"y\", \"nice\": true, \"range\": \"height\"}, {\"domain\": {\"data\": \"table\", \"field\": \"data.col\"}, \"name\": \"color\", \"range\": \"category20\", \"type\": \"ordinal\"}], \"width\": 960}, function(chart) {\n",
       "         chart({el: \"#vis39f5c919d2fc4ecab8b9e68985ea7e16\"}).update();\n",
       "       });\n",
       "     };\n",
       "     _do_plot();\n",
       "   })();\n",
       "</script>\n",
       "<style>.vega canvas {width: 100%;}</style>\n",
       "        "
      ],
      "text/plain": [
       "<IPython.core.display.HTML object>"
      ]
     },
     "metadata": {},
     "output_type": "display_data"
    }
   ],
   "source": [
    "by_hour = filtered.pivot_table('Id'\n",
    "                              , aggfunc='count'\n",
    "                              , index='Hour'\n",
    "                              , columns='Category')\n",
    "\n",
    "graph = vincent.Line(by_hour) \n",
    "graph.legend(title='Category')\n",
    "graph.axis_titles(x='Hour', y='Incident Count')\n",
    "\n",
    "graph.display()"
   ]
  },
  {
   "cell_type": "markdown",
   "metadata": {},
   "source": [
    "### Most missing person cases seem to be around 10 to 12 am with the peak being at 11am"
   ]
  },
  {
   "cell_type": "code",
   "execution_count": 17,
   "metadata": {
    "collapsed": false,
    "scrolled": true
   },
   "outputs": [
    {
     "data": {
      "text/html": [
       "<div id=\"vis70caabde13f3463dadb5cac37b00ab6a\"></div>\n",
       "<script>\n",
       "   ( function() {\n",
       "     var _do_plot = function() {\n",
       "       if (typeof vg === 'undefined') {\n",
       "         window.addEventListener('vincent_libs_loaded', _do_plot)\n",
       "         return;\n",
       "       }\n",
       "       vg.parse.spec({\"axes\": [{\"scale\": \"x\", \"title\": \"Hour\", \"type\": \"x\"}, {\"scale\": \"y\", \"title\": \"Incident Count\", \"type\": \"y\"}], \"data\": [{\"name\": \"table\", \"values\": [{\"col\": \"MISSION\", \"idx\": 0, \"val\": 4}, {\"col\": \"MISSION\", \"idx\": 2, \"val\": 2}, {\"col\": \"MISSION\", \"idx\": 5, \"val\": 2}, {\"col\": \"MISSION\", \"idx\": 7, \"val\": 2}, {\"col\": \"MISSION\", \"idx\": 8, \"val\": 7}, {\"col\": \"MISSION\", \"idx\": 9, \"val\": 19}, {\"col\": \"MISSION\", \"idx\": 10, \"val\": 34}, {\"col\": \"MISSION\", \"idx\": 11, \"val\": 55}, {\"col\": \"MISSION\", \"idx\": 12, \"val\": 39}, {\"col\": \"MISSION\", \"idx\": 13, \"val\": 9}, {\"col\": \"MISSION\", \"idx\": 14, \"val\": 18}, {\"col\": \"MISSION\", \"idx\": 15, \"val\": 17}, {\"col\": \"MISSION\", \"idx\": 16, \"val\": 27}, {\"col\": \"MISSION\", \"idx\": 17, \"val\": 10}, {\"col\": \"MISSION\", \"idx\": 18, \"val\": 1}, {\"col\": \"MISSION\", \"idx\": 19, \"val\": 8}, {\"col\": \"MISSION\", \"idx\": 20, \"val\": 4}, {\"col\": \"MISSION\", \"idx\": 21, \"val\": 16}, {\"col\": \"MISSION\", \"idx\": 22, \"val\": 15}, {\"col\": \"MISSION\", \"idx\": 23, \"val\": 8}]}, {\"name\": \"stats\", \"source\": \"table\", \"transform\": [{\"keys\": [\"data.idx\"], \"type\": \"facet\"}, {\"type\": \"stats\", \"value\": \"data.val\"}]}], \"height\": 500, \"legends\": [{\"fill\": \"color\", \"offset\": 0, \"properties\": {}, \"title\": \"District\"}], \"marks\": [{\"from\": {\"data\": \"table\", \"transform\": [{\"keys\": [\"data.col\"], \"type\": \"facet\"}, {\"height\": \"data.val\", \"point\": \"data.idx\", \"type\": \"stack\"}]}, \"marks\": [{\"properties\": {\"enter\": {\"fill\": {\"field\": \"data.col\", \"scale\": \"color\"}, \"width\": {\"band\": true, \"offset\": -1, \"scale\": \"x\"}, \"x\": {\"field\": \"data.idx\", \"scale\": \"x\"}, \"y\": {\"field\": \"y\", \"scale\": \"y\"}, \"y2\": {\"field\": \"y2\", \"scale\": \"y\"}}}, \"type\": \"rect\"}], \"type\": \"group\"}], \"padding\": \"auto\", \"scales\": [{\"domain\": {\"data\": \"table\", \"field\": \"data.idx\"}, \"name\": \"x\", \"range\": \"width\", \"type\": \"ordinal\", \"zero\": false}, {\"domain\": {\"data\": \"stats\", \"field\": \"sum\"}, \"name\": \"y\", \"nice\": true, \"range\": \"height\"}, {\"domain\": {\"data\": \"table\", \"field\": \"data.col\"}, \"name\": \"color\", \"range\": \"category20\", \"type\": \"ordinal\"}], \"width\": 960}, function(chart) {\n",
       "         chart({el: \"#vis70caabde13f3463dadb5cac37b00ab6a\"}).update();\n",
       "       });\n",
       "     };\n",
       "     _do_plot();\n",
       "   })();\n",
       "</script>\n",
       "<style>.vega canvas {width: 100%;}</style>\n",
       "        "
      ],
      "text/plain": [
       "<IPython.core.display.HTML object>"
      ]
     },
     "metadata": {},
     "output_type": "display_data"
    }
   ],
   "source": [
    "by_hour = filtered.pivot_table('Id'\n",
    "                                , aggfunc='count'\n",
    "                                , index='Hour'\n",
    "                                , columns='District')\n",
    "\n",
    "graph = vincent.Bar(by_hour) \n",
    "graph.legend(title='District')\n",
    "graph.axis_titles(x='Hour', y='Incident Count')\n",
    "\n",
    "graph.display()"
   ]
  },
  {
   "cell_type": "markdown",
   "metadata": {},
   "source": [
    "### Missing Persons in Mission district peak on Friday"
   ]
  },
  {
   "cell_type": "code",
   "execution_count": 18,
   "metadata": {
    "collapsed": false
   },
   "outputs": [
    {
     "data": {
      "text/html": [
       "<div id=\"vis9dfd915d02bf4a8c94ac485fdce5e578\"></div>\n",
       "<script>\n",
       "   ( function() {\n",
       "     var _do_plot = function() {\n",
       "       if (typeof vg === 'undefined') {\n",
       "         window.addEventListener('vincent_libs_loaded', _do_plot)\n",
       "         return;\n",
       "       }\n",
       "       vg.parse.spec({\"axes\": [{\"scale\": \"x\", \"title\": \"Weekday\", \"type\": \"x\"}, {\"scale\": \"y\", \"title\": \"Incident Count\", \"type\": \"y\"}], \"data\": [{\"name\": \"table\", \"values\": [{\"col\": \"MISSION\", \"idx\": 0, \"val\": 36}, {\"col\": \"MISSION\", \"idx\": 1, \"val\": 40}, {\"col\": \"MISSION\", \"idx\": 2, \"val\": 45}, {\"col\": \"MISSION\", \"idx\": 3, \"val\": 29}, {\"col\": \"MISSION\", \"idx\": 4, \"val\": 68}, {\"col\": \"MISSION\", \"idx\": 5, \"val\": 36}, {\"col\": \"MISSION\", \"idx\": 6, \"val\": 43}]}, {\"name\": \"stats\", \"source\": \"table\", \"transform\": [{\"keys\": [\"data.idx\"], \"type\": \"facet\"}, {\"type\": \"stats\", \"value\": \"data.val\"}]}], \"height\": 500, \"legends\": [{\"fill\": \"color\", \"offset\": 0, \"properties\": {}, \"title\": \"District\"}], \"marks\": [{\"from\": {\"data\": \"table\", \"transform\": [{\"keys\": [\"data.col\"], \"type\": \"facet\"}, {\"height\": \"data.val\", \"point\": \"data.idx\", \"type\": \"stack\"}]}, \"marks\": [{\"properties\": {\"enter\": {\"fill\": {\"field\": \"data.col\", \"scale\": \"color\"}, \"width\": {\"band\": true, \"offset\": -1, \"scale\": \"x\"}, \"x\": {\"field\": \"data.idx\", \"scale\": \"x\"}, \"y\": {\"field\": \"y\", \"scale\": \"y\"}, \"y2\": {\"field\": \"y2\", \"scale\": \"y\"}}}, \"type\": \"rect\"}], \"type\": \"group\"}], \"padding\": \"auto\", \"scales\": [{\"domain\": {\"data\": \"table\", \"field\": \"data.idx\"}, \"name\": \"x\", \"range\": \"width\", \"type\": \"ordinal\", \"zero\": false}, {\"domain\": {\"data\": \"stats\", \"field\": \"sum\"}, \"name\": \"y\", \"nice\": true, \"range\": \"height\"}, {\"domain\": {\"data\": \"table\", \"field\": \"data.col\"}, \"name\": \"color\", \"range\": \"category20\", \"type\": \"ordinal\"}], \"width\": 960}, function(chart) {\n",
       "         chart({el: \"#vis9dfd915d02bf4a8c94ac485fdce5e578\"}).update();\n",
       "       });\n",
       "     };\n",
       "     _do_plot();\n",
       "   })();\n",
       "</script>\n",
       "<style>.vega canvas {width: 100%;}</style>\n",
       "        "
      ],
      "text/plain": [
       "<IPython.core.display.HTML object>"
      ]
     },
     "metadata": {},
     "output_type": "display_data"
    }
   ],
   "source": [
    "by_weekday = filtered.pivot_table('Id'\n",
    "                                , aggfunc='count'\n",
    "                                , index='Weekday'\n",
    "                                , columns='District')\n",
    "\n",
    "graph = vincent.Bar(by_weekday) \n",
    "graph.legend(title='District')\n",
    "graph.axis_titles(x='Weekday', y='Incident Count')\n",
    "\n",
    "graph.display()"
   ]
  },
  {
   "cell_type": "code",
   "execution_count": 19,
   "metadata": {
    "collapsed": false
   },
   "outputs": [
    {
     "data": {
      "text/html": [
       "<div id=\"vised2cfa602e624e54b06dad4de95d320d\"></div>\n",
       "<script>\n",
       "   ( function() {\n",
       "     var _do_plot = function() {\n",
       "       if (typeof vg === 'undefined') {\n",
       "         window.addEventListener('vincent_libs_loaded', _do_plot)\n",
       "         return;\n",
       "       }\n",
       "       vg.parse.spec({\"axes\": [{\"scale\": \"x\", \"title\": \"Hour\", \"type\": \"x\"}, {\"scale\": \"y\", \"title\": \"Incident Count\", \"type\": \"y\"}], \"data\": [{\"name\": \"table\", \"values\": [{\"col\": \"MISSION\", \"idx\": 2, \"val\": 2}, {\"col\": \"MISSION\", \"idx\": 7, \"val\": 2}, {\"col\": \"MISSION\", \"idx\": 8, \"val\": 3}, {\"col\": \"MISSION\", \"idx\": 9, \"val\": 7}, {\"col\": \"MISSION\", \"idx\": 10, \"val\": 11}, {\"col\": \"MISSION\", \"idx\": 11, \"val\": 10}, {\"col\": \"MISSION\", \"idx\": 12, \"val\": 7}, {\"col\": \"MISSION\", \"idx\": 13, \"val\": 3}, {\"col\": \"MISSION\", \"idx\": 14, \"val\": 2}, {\"col\": \"MISSION\", \"idx\": 15, \"val\": 4}, {\"col\": \"MISSION\", \"idx\": 16, \"val\": 7}, {\"col\": \"MISSION\", \"idx\": 19, \"val\": 3}, {\"col\": \"MISSION\", \"idx\": 21, \"val\": 5}, {\"col\": \"MISSION\", \"idx\": 22, \"val\": 2}]}, {\"name\": \"stats\", \"source\": \"table\", \"transform\": [{\"keys\": [\"data.idx\"], \"type\": \"facet\"}, {\"type\": \"stats\", \"value\": \"data.val\"}]}], \"height\": 500, \"legends\": [{\"fill\": \"color\", \"offset\": 0, \"properties\": {}, \"title\": \"District\"}], \"marks\": [{\"from\": {\"data\": \"table\", \"transform\": [{\"keys\": [\"data.col\"], \"type\": \"facet\"}, {\"height\": \"data.val\", \"point\": \"data.idx\", \"type\": \"stack\"}]}, \"marks\": [{\"properties\": {\"enter\": {\"fill\": {\"field\": \"data.col\", \"scale\": \"color\"}, \"width\": {\"band\": true, \"offset\": -1, \"scale\": \"x\"}, \"x\": {\"field\": \"data.idx\", \"scale\": \"x\"}, \"y\": {\"field\": \"y\", \"scale\": \"y\"}, \"y2\": {\"field\": \"y2\", \"scale\": \"y\"}}}, \"type\": \"rect\"}], \"type\": \"group\"}], \"padding\": \"auto\", \"scales\": [{\"domain\": {\"data\": \"table\", \"field\": \"data.idx\"}, \"name\": \"x\", \"range\": \"width\", \"type\": \"ordinal\", \"zero\": false}, {\"domain\": {\"data\": \"stats\", \"field\": \"sum\"}, \"name\": \"y\", \"nice\": true, \"range\": \"height\"}, {\"domain\": {\"data\": \"table\", \"field\": \"data.col\"}, \"name\": \"color\", \"range\": \"category20\", \"type\": \"ordinal\"}], \"width\": 960}, function(chart) {\n",
       "         chart({el: \"#vised2cfa602e624e54b06dad4de95d320d\"}).update();\n",
       "       });\n",
       "     };\n",
       "     _do_plot();\n",
       "   })();\n",
       "</script>\n",
       "<style>.vega canvas {width: 100%;}</style>\n",
       "        "
      ],
      "text/plain": [
       "<IPython.core.display.HTML object>"
      ]
     },
     "metadata": {},
     "output_type": "display_data"
    }
   ],
   "source": [
    "filtered = filtered[filtered['Weekday'] == 4]\n",
    "by_hour = filtered.pivot_table('Id'\n",
    "                                , aggfunc='count'\n",
    "                                , index='Hour'\n",
    "                                , columns='District')\n",
    "\n",
    "graph = vincent.Bar(by_hour) \n",
    "graph.legend(title='District')\n",
    "graph.axis_titles(x='Hour', y='Incident Count')\n",
    "\n",
    "graph.display()"
   ]
  },
  {
   "cell_type": "markdown",
   "metadata": {},
   "source": [
    "### Conclusion\n",
    "\n",
    "* Mission district has highest rate of missing persons\n",
    "* People most likely to go missing around 10am to 11am\n",
    "* People most likely to go missing on fridays"
   ]
  },
  {
   "cell_type": "markdown",
   "metadata": {},
   "source": [
    "# People most likely to go missing in Mission District between 10am & 11am on Fridays"
   ]
  },
  {
   "cell_type": "code",
   "execution_count": null,
   "metadata": {
    "collapsed": true
   },
   "outputs": [],
   "source": []
  }
 ],
 "metadata": {
  "kernelspec": {
   "display_name": "Python 2",
   "language": "python",
   "name": "python2"
  },
  "language_info": {
   "codemirror_mode": {
    "name": "ipython",
    "version": 2
   },
   "file_extension": ".py",
   "mimetype": "text/x-python",
   "name": "python",
   "nbconvert_exporter": "python",
   "pygments_lexer": "ipython2",
   "version": "2.7.10"
  }
 },
 "nbformat": 4,
 "nbformat_minor": 0
}
